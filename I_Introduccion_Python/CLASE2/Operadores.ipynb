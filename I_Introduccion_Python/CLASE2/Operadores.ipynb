{
 "cells": [
  {
   "cell_type": "code",
   "execution_count": 2,
   "metadata": {},
   "outputs": [
    {
     "name": "stdout",
     "output_type": "stream",
     "text": [
      "7\n",
      "-1\n",
      "12\n",
      "0.75\n",
      "1\n",
      "3\n",
      "8\n",
      "10.0\n"
     ]
    }
   ],
   "source": [
    "# Clase en vídeo: https://youtu.be/Kp4Mvapo5kc?t=5665\n",
    "\n",
    "### Operadores Aritméticos ###\n",
    "\n",
    "# Operaciones con enteros\n",
    "print(3 + 4)\n",
    "print(3 - 4)\n",
    "print(3 * 4)\n",
    "print(3 / 4)\n",
    "print(10 % 3) \n",
    "print(10 // 3)\n",
    "print(2 ** 3)\n",
    "print(2 ** 3 + 3 - 7 / 1 // 4)\n",
    "\n"
   ]
  },
  {
   "cell_type": "code",
   "execution_count": 47,
   "metadata": {},
   "outputs": [
    {
     "name": "stdout",
     "output_type": "stream",
     "text": [
      "Hola Python ¿Qué tal?\n",
      "Hola 5\n",
      "Hola Hola Hola Hola Hola \n",
      "Hola Hola Hola Hola Hola Hola Hola Hola \n",
      "Hola Hola Hola Hola Hola \n",
      "True\n",
      "True\n",
      "False\n",
      "True\n",
      "True\n",
      "True\n",
      "True\n",
      "False\n",
      "False\n",
      "True\n",
      "True\n",
      "True\n",
      "True\n"
     ]
    }
   ],
   "source": [
    "# Operaciones con cadenas de texto\n",
    "a = \"Hola \" + \"Python \" + \"¿Qué tal?\"\n",
    "print(a)\n",
    "print(\"Hola \" + str(5))\n",
    "\n",
    "# Operaciones mixtas\n",
    "print(\"Hola \" * 5)\n",
    "print(\"Hola \" * (2 ** 3))\n",
    "\n",
    "my_float = 2.5 * 2\n",
    "print(\"Hola \" * int(my_float))\n",
    "\n",
    "### Operadores Comparativos ###\n",
    "\n",
    "# Operaciones con enteros\n",
    "\n",
    "\n",
    "# Operaciones con cadenas de texto\n",
    "print(\"H\" > \"A\")\n",
    "print(\"Hola\" < \"Python\")\n",
    "print(\"aaaa\" >= \"abaa\")  # Ordenación alfabética por ASCII\n",
    "print(len(\"aaaa\") >= len(\"abaa\"))  # Cuenta caracteres\n",
    "print(\"Hola\" <= \"Python\")\n",
    "print(\"Hola\" == \"Hola\")\n",
    "print(\"Hola\" != \"Python\")\n",
    "\n",
    "### Operadores Lógicos ###\n",
    "\n",
    "# Basada en el Álgebra de Boole https://es.wikipedia.org/wiki/%C3%81lgebra_de_Boole\n",
    "print(3 > 4 and \"Hola\" > \"Python\")\n",
    "print(3 > 4 or \"Hola\" > \"Python\")\n",
    "print(3 < 4 and \"Hola\" < \"Python\")\n",
    "print(3 < 4 or \"Hola\" > \"Python\")\n",
    "print(3 < 4 or (\"Hola\" > \"Python\" and 4 == 4))\n",
    "print(not (3 > 4))"
   ]
  },
  {
   "cell_type": "code",
   "execution_count": 51,
   "metadata": {},
   "outputs": [
    {
     "name": "stdout",
     "output_type": "stream",
     "text": [
      "Mi nombre es Brais Moure y mi edad es 35\n",
      "Mi nombre es Brais Moure y mi edad es 35\n",
      "Mi nombre es Brais Moure y mi edad es 35\n",
      "Mi nombre es Brais Moure y mi edad es 35.00\n"
     ]
    }
   ],
   "source": [
    "# Formateo\n",
    "name, surname, age = \"Brais\", \"Moure\", 35\n",
    "\n",
    "print(\"Mi nombre es {} {} y mi edad es {}\".format(name, surname, age))\n",
    "print(\"Mi nombre es %s %s y mi edad es %d\" % (name, surname, age))\n",
    "\n",
    "\n",
    "print(\"Mi nombre es \" + name + \" \" + surname + \" y mi edad es \" + str(age))\n",
    "print(f\"Mi nombre es {name} {surname} y mi edad es {age:.2f}\")"
   ]
  },
  {
   "cell_type": "code",
   "execution_count": 55,
   "metadata": {},
   "outputs": [
    {
     "name": "stdout",
     "output_type": "stream",
     "text": [
      "pyt\n",
      "python3.01234\n",
      "3\n",
      "pto30\n"
     ]
    }
   ],
   "source": [
    "# División\n",
    "language = 'python3.01234' #language(1:3) pyt\n",
    "language_slice = language[0:3]\n",
    "print(language_slice)\n",
    "\n",
    "language_slice = language[0:]\n",
    "print(language_slice)\n",
    "\n",
    "language_slice = language[-2]\n",
    "print(language_slice)\n",
    "\n",
    "language_slice = language[0:9:2]\n",
    "print(language_slice)"
   ]
  }
 ],
 "metadata": {
  "kernelspec": {
   "display_name": "Python 3",
   "language": "python",
   "name": "python3"
  },
  "language_info": {
   "codemirror_mode": {
    "name": "ipython",
    "version": 3
   },
   "file_extension": ".py",
   "mimetype": "text/x-python",
   "name": "python",
   "nbconvert_exporter": "python",
   "pygments_lexer": "ipython3",
   "version": "3.11.3"
  }
 },
 "nbformat": 4,
 "nbformat_minor": 2
}
