{
 "cells": [
  {
   "cell_type": "markdown",
   "metadata": {},
   "source": [
    "## WHILE\n"
   ]
  },
  {
   "cell_type": "code",
   "execution_count": 7,
   "metadata": {},
   "outputs": [
    {
     "name": "stdout",
     "output_type": "stream",
     "text": [
      "0\n",
      "2\n",
      "4\n",
      "6\n",
      "8\n",
      "Mi condición es mayor o igual que 10\n",
      "La ejecución continúa\n",
      "10\n",
      "11\n",
      "12\n",
      "13\n",
      "14\n",
      "Se detiene la ejecución\n",
      "La ejecución continúa\n"
     ]
    }
   ],
   "source": [
    "my_condition = 0\n",
    "\n",
    "while my_condition < 10:\n",
    "    print(my_condition)\n",
    "    my_condition += 2 # mycondition = mycondition + 2\n",
    "else:  # Es opcional\n",
    "    print(\"Mi condición es mayor o igual que 10\")\n",
    "\n",
    "print(\"La ejecución continúa\")\n",
    "print(my_condition)\n",
    "\n",
    "# 8\n",
    "while my_condition < 20:\n",
    "    my_condition += 1\n",
    "    if my_condition == 15\n",
    "        print(\"Se detiene la ejecución\")\n",
    "        break\n",
    "    print(my_condition)\n",
    "print(\"La ejecución continúa\")"
   ]
  },
  {
   "cell_type": "markdown",
   "metadata": {},
   "source": [
    "## FOR"
   ]
  },
  {
   "cell_type": "markdown",
   "metadata": {},
   "source": [
    "my_list = [35, 24, 62, 52, 30, 30, 17]\n",
    "\n",
    "\n",
    "for element in my_list:\n",
    "    print(element)\n",
    "\n",
    "\n",
    "my_tuple = (35, 1.77, \"Brais\", \"Moure\", \"Brais\")\n",
    "\n",
    "\n",
    "for element in my_tuple:\n",
    "    print(element)\n",
    "\n",
    "my_set = {\"Brais\", \"Moure\", 35}\n",
    "\n",
    "for element in my_set:\n",
    "    print(element)\n",
    "\n",
    "my_dict = {\"Nombre\": \"Brais\", \"Apellido\": \"Moure\", \"Edad\": 35, 1: \"Python\"}\n",
    "\n",
    "for element in my_dict:\n",
    "    print(element)\n",
    "    if element == \"Edad\":\n",
    "        break\n",
    "else:\n",
    "    print(\"El bluce for para diccionario ha finalizado\")\n",
    "\n",
    "print(\"La ejecución continúa\")\n",
    "\n",
    "for element in my_dict:\n",
    "    print(element)\n",
    "    if element == \"Edad\":\n",
    "        continue\n",
    "    print(\"Se ejecuta\")\n",
    "else:\n",
    "    print(\"El bluce for para diccionario ha finalizado\")"
   ]
  },
  {
   "cell_type": "code",
   "execution_count": 15,
   "metadata": {},
   "outputs": [
    {
     "name": "stdout",
     "output_type": "stream",
     "text": [
      "Nombre\n",
      "Se ejecuta\n",
      "Apellido\n",
      "Se ejecuta\n",
      "Edad\n",
      "Python\n",
      "Se ejecuta\n",
      "El bluce for para diccionario ha finalizado\n"
     ]
    }
   ],
   "source": [
    "my_dict = {\"Nombre\": \"Brais\", \"Apellido\": \"Moure\", \"Edad\": (15, 1), \"Python\":45}\n",
    "\n",
    "for element in my_dict:\n",
    "    print(element)\n",
    "    if element == \"Edad\":\n",
    "        continue\n",
    "    print(\"Se ejecuta\")\n",
    "else:\n",
    "    print(\"El bluce for para diccionario ha finalizado\")"
   ]
  }
 ],
 "metadata": {
  "kernelspec": {
   "display_name": "Python 3",
   "language": "python",
   "name": "python3"
  },
  "language_info": {
   "codemirror_mode": {
    "name": "ipython",
    "version": 3
   },
   "file_extension": ".py",
   "mimetype": "text/x-python",
   "name": "python",
   "nbconvert_exporter": "python",
   "pygments_lexer": "ipython3",
   "version": "3.11.3"
  }
 },
 "nbformat": 4,
 "nbformat_minor": 2
}
