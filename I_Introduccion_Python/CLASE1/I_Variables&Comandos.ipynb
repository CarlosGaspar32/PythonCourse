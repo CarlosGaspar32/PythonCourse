{
 "cells": [
  {
   "cell_type": "markdown",
   "metadata": {},
   "source": [
    "# Clase 1: Variables y comandos básicas"
   ]
  },
  {
   "cell_type": "markdown",
   "metadata": {},
   "source": [
    "### Variables"
   ]
  },
  {
   "cell_type": "code",
   "execution_count": 46,
   "metadata": {},
   "outputs": [
    {
     "name": "stdout",
     "output_type": "stream",
     "text": [
      "['Carlos', 'Emilio']\n"
     ]
    }
   ],
   "source": [
    "\n",
    "#camel case\n",
    "#snake case\n",
    "mi_nombre_octubre = 'Carlos'\n",
    "\n",
    "a = 10\n",
    "b = 1.23545545454\n",
    "name = 'Carlos Emilio'\n",
    "d = True #1\n",
    "e = False #0\n",
    "# 1 2 3 4\n",
    "# 0 1 2 3 4\n",
    "final = name.find(' ')\n",
    "final = name.replace(' ','')\n",
    "final = name.split(' ')\n",
    "\n",
    "\n",
    "print(final)\n"
   ]
  },
  {
   "cell_type": "markdown",
   "metadata": {},
   "source": [
    "#### Funciones básicas dir,print, input -> fstrings"
   ]
  },
  {
   "cell_type": "code",
   "execution_count": 33,
   "metadata": {},
   "outputs": [
    {
     "name": "stdout",
     "output_type": "stream",
     "text": [
      "Emilio\n"
     ]
    }
   ],
   "source": [
    "# print(len(e),b,c)\n",
    "# print(f'{a} {len(e)} {c}')\n",
    "\n",
    "name = input('Como te llamas: ')\n",
    "print(name)"
   ]
  }
 ],
 "metadata": {
  "kernelspec": {
   "display_name": "Python 3",
   "language": "python",
   "name": "python3"
  },
  "language_info": {
   "codemirror_mode": {
    "name": "ipython",
    "version": 3
   },
   "file_extension": ".py",
   "mimetype": "text/x-python",
   "name": "python",
   "nbconvert_exporter": "python",
   "pygments_lexer": "ipython3",
   "version": "3.11.3"
  }
 },
 "nbformat": 4,
 "nbformat_minor": 2
}
